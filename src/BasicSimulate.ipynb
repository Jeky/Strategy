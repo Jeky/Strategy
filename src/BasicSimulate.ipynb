{
 "cells": [
  {
   "cell_type": "code",
   "execution_count": 1,
   "id": "5a18d00b",
   "metadata": {},
   "outputs": [],
   "source": [
    "from rules import *\n",
    "from simulators import Simulator\n",
    "\n",
    "from random import Random\n",
    "\n",
    "from IPython.display import Markdown as md\n",
    "import matplotlib.pyplot as plt"
   ]
  },
  {
   "cell_type": "code",
   "execution_count": 2,
   "id": "066905c4",
   "metadata": {},
   "outputs": [],
   "source": [
    "# 初始金额\n",
    "START_CASH = 100\n",
    "# 重复次数\n",
    "SIMUTALOR_COUNT = 1000000\n",
    "# 最多交易数\n",
    "ITER_COUNT = 100\n",
    "# 随机种子，用来复现某一次随机过程\n",
    "seed = Random().random()\n",
    "# 规则\n",
    "rules = [\n",
    "    # 当手持金额是0时，退出交易\n",
    "     TerminateRule(lambda luck, step: step <= 0)\n",
    "]\n",
    "# 40%的概率赚10元\n",
    "# 60%的概率赔5元\n",
    "rules += ProbabilityRuleGenerator()\\\n",
    "    .new_rule(SimpleAddRule, 0.4, 10)\\\n",
    "    .new_rule(SimpleSubRule, 0.6, 6)"
   ]
  },
  {
   "cell_type": "code",
   "execution_count": 3,
   "id": "0d3672c6",
   "metadata": {},
   "outputs": [
    {
     "data": {
      "text/plain": [
       "0.2882176318832237"
      ]
     },
     "execution_count": 3,
     "metadata": {},
     "output_type": "execute_result"
    }
   ],
   "source": [
    "seed"
   ]
  },
  {
   "cell_type": "code",
   "execution_count": 4,
   "id": "9decd8fe",
   "metadata": {},
   "outputs": [],
   "source": [
    "random = Random(seed)\n",
    "simulators = [Simulator(START_CASH, rules, random) for _ in range(SIMUTALOR_COUNT)]\n",
    "for simulator in simulators:\n",
    "    for i in range(ITER_COUNT):\n",
    "        simulator.simulate()\n",
    "        \n",
    "result_list = [s.result for s in simulators]"
   ]
  },
  {
   "cell_type": "code",
   "execution_count": 5,
   "id": "adbac1a8",
   "metadata": {},
   "outputs": [
    {
     "data": {
      "image/png": "[encoded data removed]",
      "text/plain": [
       "<Figure size 640x480 with 1 Axes>"
      ]
     },
     "metadata": {},
     "output_type": "display_data"
    }
   ],
   "source": [
    "# 结果分布图\n",
    "# 横坐标是所有交易完成后，所剩金额\n",
    "# 纵坐标是有多少次重复实验结果分布在这个金额内\n",
    "n_bin = 100\n",
    "n, bins, container = plt.hist(result_list, bins=n_bin)"
   ]
  },
  {
   "cell_type": "code",
   "execution_count": 7,
   "id": "1d73096a",
   "metadata": {},
   "outputs": [
    {
     "ename": "ValueError",
     "evalue": "unsupported format character ',' (0x2c) at index 11",
     "output_type": "error",
     "traceback": [
      "\u001b[0;31m---------------------------------------------------------------------------\u001b[0m",
      "\u001b[0;31mValueError\u001b[0m                                Traceback (most recent call last)",
      "Cell \u001b[0;32mIn[7], line 6\u001b[0m\n\u001b[1;32m      4\u001b[0m pos_ratio \u001b[38;5;241m=\u001b[39m pos_count \u001b[38;5;241m/\u001b[39m SIMUTALOR_COUNT\n\u001b[1;32m      5\u001b[0m neg_ratio \u001b[38;5;241m=\u001b[39m neg_count \u001b[38;5;241m/\u001b[39m SIMUTALOR_COUNT\n\u001b[0;32m----> 6\u001b[0m md(\u001b[38;5;124;43m\"\u001b[39;49m\u001b[38;5;124;43m正收益率=\u001b[39;49m\u001b[38;5;132;43;01m%.2f\u001b[39;49;00m\u001b[38;5;124;43m\\\u001b[39;49m\u001b[38;5;124;43m%\u001b[39;49m\u001b[38;5;124;43m, 负收益率=\u001b[39;49m\u001b[38;5;132;43;01m%.2f\u001b[39;49;00m\u001b[38;5;124;43m\\\u001b[39;49m\u001b[38;5;124;43m%\u001b[39;49m\u001b[38;5;124;43m\"\u001b[39;49m\u001b[43m \u001b[49m\u001b[38;5;241;43m%\u001b[39;49m\u001b[43m \u001b[49m\u001b[43m(\u001b[49m\u001b[43mpos_ratio\u001b[49m\u001b[43m \u001b[49m\u001b[38;5;241;43m*\u001b[39;49m\u001b[43m \u001b[49m\u001b[38;5;241;43m100\u001b[39;49m\u001b[43m,\u001b[49m\u001b[43m \u001b[49m\u001b[43mneg_ratio\u001b[49m\u001b[43m \u001b[49m\u001b[38;5;241;43m*\u001b[39;49m\u001b[43m \u001b[49m\u001b[38;5;241;43m100\u001b[39;49m\u001b[43m)\u001b[49m)\n",
      "\u001b[0;31mValueError\u001b[0m: unsupported format character ',' (0x2c) at index 11"
     ]
    }
   ],
   "source": [
    "# 正收益率和负收益率的对比\n",
    "pos_count = len([r for r in result_list if r > START_CASH])\n",
    "neg_count = len([r for r in result_list if r < START_CASH])\n",
    "pos_ratio = pos_count / SIMUTALOR_COUNT\n",
    "neg_ratio = neg_count / SIMUTALOR_COUNT\n",
    "md(\"正收益率=%.2f%, 负收益率=%.2f\\%\" % (pos_ratio * 100, neg_ratio * 100))"
   ]
  },
  {
   "cell_type": "code",
   "execution_count": null,
   "id": "fd98da40",
   "metadata": {},
   "outputs": [],
   "source": [
    "# 抽样分析\n",
    "# 这里可以看到前10次的收益变化情况\n",
    "# 横坐标是投资次数，纵坐标是当前的金额\n",
    "SAMPLE_COUNT = 10\n",
    "\n",
    "sample_list = [s.steps for s in simulators][:SAMPLE_COUNT]\n",
    "for steps in sample_list:\n",
    "    plt.plot(steps)\n",
    "\n",
    "plt.axhline(y = 100, color = 'r', linestyle = '-.')\n",
    "plt.xlabel(\"iter_count\")\n",
    "plt.ylabel(\"cash\")"
   ]
  },
  {
   "cell_type": "code",
   "execution_count": null,
   "id": "e3c58dc4",
   "metadata": {},
   "outputs": [],
   "source": [
    "# 最好的10个结果和最差的10个结果\n",
    "# 横坐标是投资次数，纵坐标是当前的金额\n",
    "sort_by_result = sorted(list(simulators), key = lambda s: s.result)\n",
    "sample_list = [s.steps for s in sort_by_result[:SAMPLE_COUNT] + sort_by_result[-SAMPLE_COUNT:]]\n",
    "\n",
    "for steps in sample_list:\n",
    "    plt.plot(steps)\n",
    "\n",
    "plt.axhline(y = 100, color = 'r', linestyle = '-.')\n",
    "plt.xlabel(\"iter_count\")\n",
    "plt.ylabel(\"cash\")"
   ]
  }
 ],
 "metadata": {
  "kernelspec": {
   "display_name": "Python 3 (ipykernel)",
   "language": "python",
   "name": "python3"
  },
  "language_info": {
   "codemirror_mode": {
    "name": "ipython",
    "version": 3
   },
   "file_extension": ".py",
   "mimetype": "text/x-python",
   "name": "python",
   "nbconvert_exporter": "python",
   "pygments_lexer": "ipython3",
   "version": "3.9.6"
  }
 },
 "nbformat": 4,
 "nbformat_minor": 5
}
