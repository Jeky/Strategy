{
 "cells": [
  {
   "cell_type": "code",
   "execution_count": 1,
   "id": "5a18d00b",
   "metadata": {},
   "outputs": [],
   "source": [
    "from rules import *\n",
    "from simulators import Simulator\n",
    "\n",
    "from random import Random\n",
    "\n",
    "from IPython.display import Markdown as md\n",
    "import matplotlib.pyplot as plt\n",
    "import numpy as np"
   ]
  },
  {
   "cell_type": "code",
   "execution_count": 2,
   "id": "066905c4",
   "metadata": {},
   "outputs": [],
   "source": [
    "# 初始金额\n",
    "START_CASH = 100\n",
    "# 重复次数\n",
    "SIMUTALOR_COUNT = 100000\n",
    "# 最多交易数\n",
    "ITER_COUNT = 100\n",
    "# 随机种子，用来复现某一次随机过程\n",
    "seed = Random().random()\n",
    "# 规则\n",
    "rules = [\n",
    "    # 当手持金额是0时，退出交易\n",
    "     TerminateRule(lambda luck, step: step < 0)\n",
    "]\n",
    "# 40%的概率赚10元\n",
    "# 60%的概率赔5元\n",
    "rules += ProbabilityRuleGenerator()\\\n",
    "    .new_rule(SimpleAddRule, 0.4, 10)\\\n",
    "    .new_rule(SimpleSubRule, 0.6, 5)"
   ]
  },
  {
   "cell_type": "code",
   "execution_count": 3,
   "id": "0d3672c6",
   "metadata": {},
   "outputs": [
    {
     "data": {
      "text/plain": [
       "0.6657650215842648"
      ]
     },
     "execution_count": 3,
     "metadata": {},
     "output_type": "execute_result"
    }
   ],
   "source": [
    "seed"
   ]
  },
  {
   "cell_type": "code",
   "execution_count": 4,
   "id": "9decd8fe",
   "metadata": {},
   "outputs": [],
   "source": [
    "random = Random(seed)\n",
    "simulators = [Simulator(START_CASH, rules, random) for _ in range(SIMUTALOR_COUNT)]\n",
    "for simulator in simulators:\n",
    "    for i in range(ITER_COUNT):\n",
    "        simulator.simulate()"
   ]
  },
  {
   "cell_type": "code",
   "execution_count": 5,
   "id": "59b9450d",
   "metadata": {},
   "outputs": [],
   "source": [
    "result_list = [s.result for s in simulators]"
   ]
  },
  {
   "cell_type": "code",
   "execution_count": 6,
   "id": "adbac1a8",
   "metadata": {},
   "outputs": [
    {
     "data": {
      "text/plain": [
       "(array([2.72180e+04, 1.03929e+05, 2.51540e+05, 3.14410e+05, 2.09898e+05,\n",
       "        7.61840e+04, 1.50470e+04, 1.67400e+03, 9.60000e+01, 4.00000e+00]),\n",
       " array([ -5. ,  54.5, 114. , 173.5, 233. , 292.5, 352. , 411.5, 471. ,\n",
       "        530.5, 590. ]),\n",
       " <BarContainer object of 10 artists>)"
      ]
     },
     "execution_count": 6,
     "metadata": {},
     "output_type": "execute_result"
    },
    {
     "data": {
      "image/png": "[encoded data removed]",
      "text/plain": [
       "<Figure size 640x480 with 1 Axes>"
      ]
     },
     "metadata": {},
     "output_type": "display_data"
    }
   ],
   "source": [
    "n_bin = 10\n",
    "plt.hist(result_list, bins=n_bin)"
   ]
  },
  {
   "cell_type": "code",
   "execution_count": 7,
   "id": "1d73096a",
   "metadata": {},
   "outputs": [
    {
     "data": {
      "text/markdown": [
       "上图中，横坐标是100次交易后的金额，纵坐标是有多少个模拟数据达到了这个金额"
      ],
      "text/plain": [
       "<IPython.core.display.Markdown object>"
      ]
     },
     "execution_count": 7,
     "metadata": {},
     "output_type": "execute_result"
    }
   ],
   "source": [
    "md(\"上图中，横坐标是%i次交易后的金额，纵坐标是有多少个模拟数据达到了这个金额\" % (ITER_COUNT))"
   ]
  }
 ],
 "metadata": {
  "kernelspec": {
   "display_name": "Python 3 (ipykernel)",
   "language": "python",
   "name": "python3"
  },
  "language_info": {
   "codemirror_mode": {
    "name": "ipython",
    "version": 3
   },
   "file_extension": ".py",
   "mimetype": "text/x-python",
   "name": "python",
   "nbconvert_exporter": "python",
   "pygments_lexer": "ipython3",
   "version": "3.9.6"
  }
 },
 "nbformat": 4,
 "nbformat_minor": 5
}
